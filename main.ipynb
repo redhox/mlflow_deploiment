{
 "cells": [
  {
   "cell_type": "code",
   "execution_count": null,
   "metadata": {},
   "outputs": [],
   "source": [
    "pip install mlflow ultralytics boto3 awscli setuptools python-dotenv\n"
   ]
  },
  {
   "cell_type": "code",
   "execution_count": null,
   "metadata": {},
   "outputs": [],
   "source": [
    "import os\n",
    "from dotenv import dotenv_values\n",
    "import mlflow"
   ]
  },
  {
   "cell_type": "markdown",
   "metadata": {},
   "source": [
    ".env\n",
    "```bash\n",
    "    AWS_ACCESS_KEY_ID=\n",
    "    AWS_SECRET_ACCESS_KEY=\n",
    "    MLFLOW_S3_ENDPOINT_URL=http://1.2.3.4:9000/\n",
    "    MLFLOW_TRACKING_URI=http://1.2.3.4:5000/\n",
    "    MLFLOW_TRACKING_USERNAME=admin\n",
    "    MLFLOW_TRACKING_PASSWORD=password\n",
    "\n",
    "```"
   ]
  },
  {
   "cell_type": "code",
   "execution_count": null,
   "metadata": {},
   "outputs": [],
   "source": [
    "# from google.colab import drive\n",
    "# drive.mount('/content/drive/')"
   ]
  },
  {
   "cell_type": "code",
   "execution_count": null,
   "metadata": {},
   "outputs": [],
   "source": [
    "\n",
    "temp = dotenv_values(f\".env\")\n",
    "\n",
    "\n",
    "os.environ['AWS_ACCESS_KEY_ID'] = temp[\"AWS_ACCESS_KEY_ID\"]\n",
    "os.environ['AWS_SECRET_ACCESS_KEY'] = temp[\"AWS_SECRET_ACCESS_KEY\"]\n",
    "os.environ['MLFLOW_S3_ENDPOINT_URL'] = temp[\"MLFLOW_S3_ENDPOINT_URL\"]\n",
    "os.environ['MLFLOW_TRACKING_URI'] = temp[\"MLFLOW_TRACKING_URI\"]\n",
    "os.environ['MLFLOW_TRACKING_USERNAME'] = temp[\"MLFLOW_TRACKING_USERNAME\"]\n",
    "os.environ['MLFLOW_TRACKING_PASSWORD'] = temp[\"MLFLOW_TRACKING_PASSWORD\"]\n"
   ]
  },
  {
   "cell_type": "markdown",
   "metadata": {},
   "source": [
    "pour changer le password de mlflow\n",
    "```bash\n",
    "from mlflow.server.auth.client import AuthServiceClient\n",
    "client = AuthServiceClient(temp[\"MLFLOW_TRACKING_URI\"])\n",
    "client.update_user_password(\"admin\", \"new_password\")\n",
    "```"
   ]
  },
  {
   "cell_type": "code",
   "execution_count": null,
   "metadata": {},
   "outputs": [],
   "source": [
    "\n",
    "mlflow.set_tracking_uri(temp[\"MLFLOW_TRACKING_URI\"])"
   ]
  },
  {
   "cell_type": "code",
   "execution_count": null,
   "metadata": {},
   "outputs": [],
   "source": [
    "project_name= \"projet_avecmdp\"#experiment\n",
    "run_name=\"marche_bien\"\n",
    "model_size=\"yolov8s.pt\"#yolov8n.pt/yolov8s.pt/yolov8m.pt\n",
    "data_yaml_path=\"/home/coulm/clone/mlflow/data/datasets/data.yaml\"\n",
    "epochs=3\n",
    "image_sise=64\n",
    "patience=2"
   ]
  },
  {
   "cell_type": "code",
   "execution_count": null,
   "metadata": {},
   "outputs": [],
   "source": [
    "import os\n",
    "import mlflow\n",
    "from ultralytics import YOLO\n",
    "\n",
    "mlflow.set_experiment(project_name)\n",
    "with mlflow.start_run(run_name=run_name):\n",
    "    model = YOLO(model_size)\n",
    "    results  = model.train(project=project_name,name=run_name,data=data_yaml_path, epochs=epochs,imgsz=image_sise)"
   ]
  }
 ],
 "metadata": {
  "kernelspec": {
   "display_name": ".venv",
   "language": "python",
   "name": "python3"
  },
  "language_info": {
   "codemirror_mode": {
    "name": "ipython",
    "version": 3
   },
   "file_extension": ".py",
   "mimetype": "text/x-python",
   "name": "python",
   "nbconvert_exporter": "python",
   "pygments_lexer": "ipython3",
   "version": "3.12.2"
  }
 },
 "nbformat": 4,
 "nbformat_minor": 2
}
